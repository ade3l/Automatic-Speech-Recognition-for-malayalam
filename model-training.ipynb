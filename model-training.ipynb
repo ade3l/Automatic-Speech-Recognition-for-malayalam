{
 "cells": [
  {
   "cell_type": "code",
   "execution_count": 1,
   "metadata": {
    "execution": {
     "iopub.execute_input": "2023-02-21T12:43:19.609830Z",
     "iopub.status.busy": "2023-02-21T12:43:19.609155Z",
     "iopub.status.idle": "2023-02-21T12:43:19.614874Z",
     "shell.execute_reply": "2023-02-21T12:43:19.613865Z",
     "shell.execute_reply.started": "2023-02-21T12:43:19.609791Z"
    }
   },
   "outputs": [],
   "source": [
    "import pandas as pd\n",
    "from transformers import Wav2Vec2Processor\n",
    "from datasets import load_metric, Dataset\n",
    "import numpy as np\n",
    "from transformers import Wav2Vec2ForCTC\n",
    "from transformers import TrainingArguments\n",
    "from transformers import Trainer"
   ]
  },
  {
   "cell_type": "markdown",
   "metadata": {
    "execution": {
     "iopub.execute_input": "2023-02-21T12:43:23.480631Z",
     "iopub.status.busy": "2023-02-21T12:43:23.479867Z",
     "iopub.status.idle": "2023-02-21T12:43:23.486063Z",
     "shell.execute_reply": "2023-02-21T12:43:23.484674Z",
     "shell.execute_reply.started": "2023-02-21T12:43:23.480583Z"
    }
   },
   "source": [
    "import os\n",
    "\n",
    "os.environ[\"CUDA_VISIBLE_DEVICES\"]=\"\"\n"
   ]
  },
  {
   "cell_type": "code",
   "execution_count": 4,
   "metadata": {
    "execution": {
     "iopub.execute_input": "2023-02-21T12:43:39.539908Z",
     "iopub.status.busy": "2023-02-21T12:43:39.539458Z",
     "iopub.status.idle": "2023-02-21T12:45:53.545791Z",
     "shell.execute_reply": "2023-02-21T12:45:53.543817Z",
     "shell.execute_reply.started": "2023-02-21T12:43:39.539873Z"
    }
   },
   "outputs": [],
   "source": [
    "train_data1 = pd.read_pickle('./train_data1.pkl')[['input_values','labels']]"
   ]
  },
  {
   "cell_type": "code",
   "execution_count": 5,
   "metadata": {},
   "outputs": [],
   "source": [
    "train_data2 = pd.read_pickle('./train_data2.pkl')[['input_values','labels']]"
   ]
  },
  {
   "cell_type": "code",
   "execution_count": 6,
   "metadata": {},
   "outputs": [],
   "source": [
    "train_data = Dataset.from_pandas( pd.concat([train_data1,train_data2]))"
   ]
  },
  {
   "cell_type": "code",
   "execution_count": 7,
   "metadata": {},
   "outputs": [],
   "source": [
    "del train_data1\n",
    "del train_data2"
   ]
  },
  {
   "cell_type": "code",
   "execution_count": 8,
   "metadata": {},
   "outputs": [
    {
     "data": {
      "text/plain": [
       "Dataset({\n",
       "    features: ['input_values', 'labels'],\n",
       "    num_rows: 27578\n",
       "})"
      ]
     },
     "execution_count": 8,
     "metadata": {},
     "output_type": "execute_result"
    }
   ],
   "source": [
    "train_data"
   ]
  },
  {
   "cell_type": "code",
   "execution_count": 9,
   "metadata": {},
   "outputs": [
    {
     "data": {
      "text/plain": [
       "10"
      ]
     },
     "execution_count": 9,
     "metadata": {},
     "output_type": "execute_result"
    }
   ],
   "source": [
    "import gc\n",
    "# del train_data1\n",
    "# del train_data2\n",
    "gc.collect()"
   ]
  },
  {
   "cell_type": "code",
   "execution_count": 10,
   "metadata": {
    "execution": {
     "iopub.execute_input": "2023-02-21T12:45:53.549286Z",
     "iopub.status.busy": "2023-02-21T12:45:53.548876Z",
     "iopub.status.idle": "2023-02-21T12:46:55.036610Z",
     "shell.execute_reply": "2023-02-21T12:46:55.035595Z",
     "shell.execute_reply.started": "2023-02-21T12:45:53.549248Z"
    }
   },
   "outputs": [],
   "source": [
    "test_data = Dataset.from_pandas(pd.read_pickle('./test_data_final.pkl')[['input_values','labels']])"
   ]
  },
  {
   "cell_type": "code",
   "execution_count": 11,
   "metadata": {
    "execution": {
     "iopub.execute_input": "2023-02-21T12:46:55.040374Z",
     "iopub.status.busy": "2023-02-21T12:46:55.039390Z",
     "iopub.status.idle": "2023-02-21T12:46:55.094656Z",
     "shell.execute_reply": "2023-02-21T12:46:55.093192Z",
     "shell.execute_reply.started": "2023-02-21T12:46:55.040327Z"
    }
   },
   "outputs": [
    {
     "name": "stderr",
     "output_type": "stream",
     "text": [
      "Special tokens have been added in the vocabulary, make sure the associated word embeddings are fine-tuned or trained.\n"
     ]
    }
   ],
   "source": [
    "processor = Wav2Vec2Processor.from_pretrained('./icfoss-model')"
   ]
  },
  {
   "cell_type": "markdown",
   "metadata": {},
   "source": [
    "[Code for collator](https://github.com/huggingface/transformers/blob/9a06b6b11bdfc42eea08fa91d0c737d1863c99e3/examples/research_projects/wav2vec2/run_asr.py#L81)"
   ]
  },
  {
   "cell_type": "code",
   "execution_count": 12,
   "metadata": {
    "execution": {
     "iopub.execute_input": "2023-02-21T12:46:55.097144Z",
     "iopub.status.busy": "2023-02-21T12:46:55.096566Z",
     "iopub.status.idle": "2023-02-21T12:46:56.286401Z",
     "shell.execute_reply": "2023-02-21T12:46:56.285052Z",
     "shell.execute_reply.started": "2023-02-21T12:46:55.097079Z"
    }
   },
   "outputs": [],
   "source": [
    "import torch\n",
    "import jiwer\n",
    "from dataclasses import dataclass, field\n",
    "from typing import Any, Dict, List, Optional, Union\n",
    "\n",
    "@dataclass\n",
    "class DataCollatorCTCWithPadding:\n",
    "    \"\"\"\n",
    "    Data collator that will dynamically pad the inputs received.\n",
    "    Args:\n",
    "        processor (:class:`~transformers.Wav2Vec2Processor`)\n",
    "            The processor used for proccessing the data.\n",
    "        padding (:obj:`bool`, :obj:`str` or :class:`~transformers.tokenization_utils_base.PaddingStrategy`, `optional`, defaults to :obj:`True`):\n",
    "            Select a strategy to pad the returned sequences (according to the model's padding side and padding index)\n",
    "            among:\n",
    "            * :obj:`True` or :obj:`'longest'`: Pad to the longest sequence in the batch (or no padding if only a single\n",
    "              sequence if provided).\n",
    "            * :obj:`'max_length'`: Pad to a maximum length specified with the argument :obj:`max_length` or to the\n",
    "              maximum acceptable input length for the model if that argument is not provided.\n",
    "            * :obj:`False` or :obj:`'do_not_pad'` (default): No padding (i.e., can output a batch with sequences of\n",
    "              different lengths).\n",
    "        max_length (:obj:`int`, `optional`):\n",
    "            Maximum length of the ``input_values`` of the returned list and optionally padding length (see above).\n",
    "        max_length_labels (:obj:`int`, `optional`):\n",
    "            Maximum length of the ``labels`` returned list and optionally padding length (see above).\n",
    "        pad_to_multiple_of (:obj:`int`, `optional`):\n",
    "            If set will pad the sequence to a multiple of the provided value.\n",
    "            This is especially useful to enable the use of Tensor Cores on NVIDIA hardware with compute capability >=\n",
    "            7.5 (Volta).\n",
    "    \"\"\"\n",
    "\n",
    "    processor: Wav2Vec2Processor\n",
    "    padding: Union[bool, str] = True\n",
    "    max_length: Optional[int] = None\n",
    "    max_length_labels: Optional[int] = None\n",
    "    pad_to_multiple_of: Optional[int] = None\n",
    "    pad_to_multiple_of_labels: Optional[int] = None\n",
    "\n",
    "    def __call__(self, features: List[Dict[str, Union[List[int], torch.Tensor]]]) -> Dict[str, torch.Tensor]:\n",
    "        # split inputs and labels since they have to be of different lenghts and need\n",
    "        # different padding methods\n",
    "        input_features = [{\"input_values\": feature[\"input_values\"]} for feature in features]\n",
    "        label_features = [{\"input_ids\": feature[\"labels\"]} for feature in features]\n",
    "\n",
    "        batch = self.processor.pad(\n",
    "            input_features,\n",
    "            padding=self.padding,\n",
    "            max_length=self.max_length,\n",
    "            pad_to_multiple_of=self.pad_to_multiple_of,\n",
    "            return_tensors=\"pt\",\n",
    "        )\n",
    "        with self.processor.as_target_processor():\n",
    "            labels_batch = self.processor.pad(\n",
    "                label_features,\n",
    "                padding=self.padding,\n",
    "                max_length=self.max_length_labels,\n",
    "                pad_to_multiple_of=self.pad_to_multiple_of_labels,\n",
    "                return_tensors=\"pt\",\n",
    "            )\n",
    "\n",
    "        # replace padding with -100 to ignore loss correctly\n",
    "        labels = labels_batch[\"input_ids\"].masked_fill(labels_batch.attention_mask.ne(1), -100)\n",
    "\n",
    "        batch[\"labels\"] = labels\n",
    "\n",
    "        return batch"
   ]
  },
  {
   "cell_type": "code",
   "execution_count": 13,
   "metadata": {
    "execution": {
     "iopub.execute_input": "2023-02-21T12:46:56.288477Z",
     "iopub.status.busy": "2023-02-21T12:46:56.288100Z",
     "iopub.status.idle": "2023-02-21T12:46:56.293638Z",
     "shell.execute_reply": "2023-02-21T12:46:56.292301Z",
     "shell.execute_reply.started": "2023-02-21T12:46:56.288444Z"
    }
   },
   "outputs": [],
   "source": [
    "data_collator = DataCollatorCTCWithPadding(processor=processor, padding=True)"
   ]
  },
  {
   "cell_type": "code",
   "execution_count": 14,
   "metadata": {
    "execution": {
     "iopub.execute_input": "2023-02-21T12:46:56.295520Z",
     "iopub.status.busy": "2023-02-21T12:46:56.295101Z",
     "iopub.status.idle": "2023-02-21T12:46:57.446655Z",
     "shell.execute_reply": "2023-02-21T12:46:57.445346Z",
     "shell.execute_reply.started": "2023-02-21T12:46:56.295485Z"
    }
   },
   "outputs": [
    {
     "name": "stderr",
     "output_type": "stream",
     "text": [
      "C:\\Users\\unmuk\\AppData\\Local\\Temp\\ipykernel_15280\\1284616902.py:1: FutureWarning: load_metric is deprecated and will be removed in the next major version of datasets. Use 'evaluate.load' instead, from the new library 🤗 Evaluate: https://huggingface.co/docs/evaluate\n",
      "  wer_metric = load_metric(\"wer\")\n",
      "Using the latest cached version of the module from C:\\Users\\unmuk\\.cache\\huggingface\\modules\\datasets_modules\\metrics\\wer\\959256dcd2f8f341e108aa768b4433db0dd58f85e23e818e491c2d6d0f84113b (last modified on Sat Feb 25 17:29:22 2023) since it couldn't be found locally at wer, or remotely on the Hugging Face Hub.\n"
     ]
    }
   ],
   "source": [
    "wer_metric = load_metric(\"wer\")\n",
    "# wer_metric"
   ]
  },
  {
   "cell_type": "code",
   "execution_count": 15,
   "metadata": {
    "execution": {
     "iopub.execute_input": "2023-02-21T12:46:57.449298Z",
     "iopub.status.busy": "2023-02-21T12:46:57.448433Z",
     "iopub.status.idle": "2023-02-21T12:46:57.457702Z",
     "shell.execute_reply": "2023-02-21T12:46:57.456210Z",
     "shell.execute_reply.started": "2023-02-21T12:46:57.449249Z"
    }
   },
   "outputs": [],
   "source": [
    "def compute_metrics(pred):\n",
    "    pred_logits = pred.predictions\n",
    "    pred_ids = np.argmax(pred_logits, axis=-1)\n",
    "\n",
    "    pred.label_ids[pred.label_ids == -100] = processor.tokenizer.pad_token_id\n",
    "\n",
    "    pred_str = processor.batch_decode(pred_ids)\n",
    "    # we do not want to group tokens when computing the metrics\n",
    "    label_str = processor.batch_decode(pred.label_ids, group_tokens=False)\n",
    "\n",
    "    wer = wer_metric.compute(predictions=pred_str, references=label_str)\n",
    "\n",
    "    return {\"wer\": wer}\n"
   ]
  },
  {
   "cell_type": "code",
   "execution_count": null,
   "metadata": {
    "execution": {
     "iopub.execute_input": "2023-02-21T12:46:57.460336Z",
     "iopub.status.busy": "2023-02-21T12:46:57.459539Z",
     "iopub.status.idle": "2023-02-21T12:47:30.564239Z",
     "shell.execute_reply": "2023-02-21T12:47:30.563002Z",
     "shell.execute_reply.started": "2023-02-21T12:46:57.460287Z"
    },
    "vscode": {
     "languageId": "plaintext"
    }
   },
   "outputs": [],
   "source": [
    "from transformers import Wav2Vec2ForCTC\n",
    "\n",
    "model = Wav2Vec2ForCTC.from_pretrained(\n",
    "    \"facebook/wav2vec2-large-xlsr-53\",\n",
    "    attention_dropout=0.094,\n",
    "    hidden_dropout=0.05,\n",
    "    feat_proj_dropout=0.0,\n",
    "    mask_time_prob=0.082,\n",
    "    layerdrop=0.045,\n",
    "    gradient_checkpointing=True, \n",
    "    ctc_loss_reduction=\"mean\", \n",
    "    pad_token_id=processor.tokenizer.pad_token_id,\n",
    "    vocab_size=len(processor.tokenizer)\n",
    ")\n"
   ]
  },
  {
   "cell_type": "code",
   "execution_count": null,
   "metadata": {
    "execution": {
     "iopub.execute_input": "2023-02-21T12:47:30.570839Z",
     "iopub.status.busy": "2023-02-21T12:47:30.570432Z",
     "iopub.status.idle": "2023-02-21T12:47:30.576837Z",
     "shell.execute_reply": "2023-02-21T12:47:30.575489Z",
     "shell.execute_reply.started": "2023-02-21T12:47:30.570805Z"
    },
    "vscode": {
     "languageId": "plaintext"
    }
   },
   "outputs": [],
   "source": [
    "model.freeze_feature_encoder()\n"
   ]
  },
  {
   "cell_type": "code",
   "execution_count": 16,
   "metadata": {
    "execution": {
     "iopub.execute_input": "2023-02-21T12:47:30.579312Z",
     "iopub.status.busy": "2023-02-21T12:47:30.578807Z",
     "iopub.status.idle": "2023-02-21T12:47:39.159122Z",
     "shell.execute_reply": "2023-02-21T12:47:39.157732Z",
     "shell.execute_reply.started": "2023-02-21T12:47:30.579265Z"
    }
   },
   "outputs": [],
   "source": [
    "from transformers import TrainingArguments\n",
    "\n",
    "training_args = TrainingArguments(\n",
    "  output_dir='/working/',\n",
    "  group_by_length=False,\n",
    "  per_device_train_batch_size=8,\n",
    "  gradient_accumulation_steps=4,\n",
    "  gradient_checkpointing=True,\n",
    "  evaluation_strategy=\"steps\",\n",
    "  num_train_epochs=1,\n",
    "  save_steps=800,\n",
    "  eval_steps=500,\n",
    "  logging_steps=500,\n",
    "  learning_rate=2.4e-4,\n",
    "  warmup_steps=800,\n",
    "  save_total_limit=3,\n",
    "    fp16=True,\n",
    "    optim=\"adafactor\",\n",
    "    overwrite_output_dir=False\n",
    ")"
   ]
  },
  {
   "cell_type": "markdown",
   "metadata": {},
   "source": [
    "import os\n",
    "os.environ['USE_FP16'] = 'true'"
   ]
  },
  {
   "cell_type": "code",
   "execution_count": null,
   "metadata": {
    "execution": {
     "iopub.execute_input": "2023-02-21T12:47:39.161275Z",
     "iopub.status.busy": "2023-02-21T12:47:39.160510Z",
     "iopub.status.idle": "2023-02-21T12:47:40.039350Z",
     "shell.execute_reply": "2023-02-21T12:47:40.037983Z",
     "shell.execute_reply.started": "2023-02-21T12:47:39.161238Z"
    },
    "vscode": {
     "languageId": "plaintext"
    }
   },
   "outputs": [],
   "source": [
    "from transformers import Trainer\n",
    "\n",
    "trainer = Trainer(\n",
    "    model=model,\n",
    "    data_collator=data_collator,\n",
    "    args=training_args,\n",
    "    compute_metrics=compute_metrics,\n",
    "    train_dataset=train_data,\n",
    "    eval_dataset=test_data,\n",
    "    tokenizer=processor.feature_extractor,\n",
    ")\n"
   ]
  },
  {
   "cell_type": "markdown",
   "metadata": {},
   "source": [
    "# _Training_"
   ]
  },
  {
   "cell_type": "code",
   "execution_count": null,
   "metadata": {},
   "outputs": [],
   "source": [
    "trainer.train"
   ]
  },
  {
   "cell_type": "code",
   "execution_count": null,
   "metadata": {},
   "outputs": [],
   "source": [
    "trainer.save_model(f\"./saved/\")"
   ]
  }
 ],
 "metadata": {
  "kernelspec": {
   "display_name": "Python 3 (ipykernel)",
   "language": "python",
   "name": "python3"
  },
  "language_info": {
   "codemirror_mode": {
    "name": "ipython",
    "version": 3
   },
   "file_extension": ".py",
   "mimetype": "text/x-python",
   "name": "python",
   "nbconvert_exporter": "python",
   "pygments_lexer": "ipython3",
   "version": "3.9.0"
  }
 },
 "nbformat": 4,
 "nbformat_minor": 4
}
