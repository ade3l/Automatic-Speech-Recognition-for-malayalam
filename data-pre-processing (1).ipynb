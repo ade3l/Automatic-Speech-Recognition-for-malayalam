{
 "cells": [
  {
   "cell_type": "code",
   "execution_count": 1,
   "metadata": {
    "execution": {
     "iopub.execute_input": "2023-03-27T11:46:31.299156Z",
     "iopub.status.busy": "2023-03-27T11:46:31.298283Z",
     "iopub.status.idle": "2023-03-27T11:46:35.051015Z",
     "shell.execute_reply": "2023-03-27T11:46:35.049365Z",
     "shell.execute_reply.started": "2023-03-27T11:46:31.299026Z"
    }
   },
   "outputs": [],
   "source": [
    "# import os\n",
    "import pandas as pd\n",
    "from sklearn.model_selection import train_test_split\n",
    "import re\n",
    "import json\n",
    "from transformers import Wav2Vec2CTCTokenizer\n",
    "from transformers import Wav2Vec2FeatureExtractor\n",
    "from transformers import Wav2Vec2Processor\n",
    "import torchaudio\n",
    "# import random\n",
    "# import IPython.display as ipd\n",
    "# import numpy as np\n"
   ]
  },
  {
   "cell_type": "code",
   "execution_count": 2,
   "metadata": {
    "execution": {
     "iopub.execute_input": "2023-03-27T11:46:35.055274Z",
     "iopub.status.busy": "2023-03-27T11:46:35.054102Z",
     "iopub.status.idle": "2023-03-27T11:46:35.062491Z",
     "shell.execute_reply": "2023-03-27T11:46:35.061590Z",
     "shell.execute_reply.started": "2023-03-27T11:46:35.055222Z"
    }
   },
   "outputs": [],
   "source": [
    "DATASET_PATH = r'/kaggle/input/imasc/'"
   ]
  },
  {
   "cell_type": "markdown",
   "metadata": {},
   "source": [
    "## Dataset functions "
   ]
  },
  {
   "cell_type": "code",
   "execution_count": 3,
   "metadata": {
    "execution": {
     "iopub.execute_input": "2023-03-27T11:46:35.064499Z",
     "iopub.status.busy": "2023-03-27T11:46:35.063915Z",
     "iopub.status.idle": "2023-03-27T11:46:35.081475Z",
     "shell.execute_reply": "2023-03-27T11:46:35.079954Z",
     "shell.execute_reply.started": "2023-03-27T11:46:35.064467Z"
    }
   },
   "outputs": [],
   "source": [
    "def get_full_dataset():\n",
    "    dataset = pd.read_csv(DATASET_PATH+'metadata.csv', sep='|')\n",
    "    dataset.loc[len(dataset.index)]=[dataset.columns[0],dataset.columns[1],dataset.columns[2]]\n",
    "    dataset.rename(columns={dataset.columns[0]:'speaker',dataset.columns[1]:'file',dataset.columns[2]:'transcript'},inplace=True)\n",
    "    return dataset"
   ]
  },
  {
   "cell_type": "code",
   "execution_count": 4,
   "metadata": {
    "execution": {
     "iopub.execute_input": "2023-03-27T11:46:35.084961Z",
     "iopub.status.busy": "2023-03-27T11:46:35.084130Z",
     "iopub.status.idle": "2023-03-27T11:46:35.091043Z",
     "shell.execute_reply": "2023-03-27T11:46:35.090123Z",
     "shell.execute_reply.started": "2023-03-27T11:46:35.084921Z"
    }
   },
   "outputs": [],
   "source": [
    "chars_to_ignore_regex = \"[\\,\\?\\.\\!\\-\\;\\:\\\"\\'\\“\\%\\‘\\”\\_]\"\n",
    "# unicode_ignore_regex = r'[\\u200e]'\n",
    "def remove_special_chars(batch):\n",
    "    batch['transcript'] = batch['transcript'].str.strip()\n",
    "    batch['transcript'] = batch['transcript'].replace(chars_to_ignore_regex,'', regex=True)\n",
    "    return batch\n",
    "    "
   ]
  },
  {
   "cell_type": "code",
   "execution_count": 5,
   "metadata": {
    "execution": {
     "iopub.execute_input": "2023-03-27T11:46:35.093181Z",
     "iopub.status.busy": "2023-03-27T11:46:35.092532Z",
     "iopub.status.idle": "2023-03-27T11:46:35.102172Z",
     "shell.execute_reply": "2023-03-27T11:46:35.101023Z",
     "shell.execute_reply.started": "2023-03-27T11:46:35.093148Z"
    }
   },
   "outputs": [],
   "source": [
    "get_wav_path = lambda speaker,file : \"%s%s/wavs/%s.wav\"%(DATASET_PATH, speaker, file)"
   ]
  },
  {
   "cell_type": "code",
   "execution_count": 6,
   "metadata": {
    "execution": {
     "iopub.execute_input": "2023-03-27T11:46:35.105021Z",
     "iopub.status.busy": "2023-03-27T11:46:35.104551Z",
     "iopub.status.idle": "2023-03-27T11:46:35.377055Z",
     "shell.execute_reply": "2023-03-27T11:46:35.375814Z",
     "shell.execute_reply.started": "2023-03-27T11:46:35.104979Z"
    }
   },
   "outputs": [],
   "source": [
    "dataset = get_full_dataset()"
   ]
  },
  {
   "cell_type": "code",
   "execution_count": 7,
   "metadata": {
    "execution": {
     "iopub.execute_input": "2023-03-27T11:46:35.379108Z",
     "iopub.status.busy": "2023-03-27T11:46:35.378727Z",
     "iopub.status.idle": "2023-03-27T11:46:35.398019Z",
     "shell.execute_reply": "2023-03-27T11:46:35.396710Z",
     "shell.execute_reply.started": "2023-03-27T11:46:35.379067Z"
    }
   },
   "outputs": [],
   "source": [
    "dataset_splits = train_test_split(dataset,test_size=0.2, train_size=0.8, random_state = 17, shuffle=True)"
   ]
  },
  {
   "cell_type": "code",
   "execution_count": 8,
   "metadata": {
    "execution": {
     "iopub.execute_input": "2023-03-27T11:46:35.400100Z",
     "iopub.status.busy": "2023-03-27T11:46:35.399622Z",
     "iopub.status.idle": "2023-03-27T11:46:35.508984Z",
     "shell.execute_reply": "2023-03-27T11:46:35.507906Z",
     "shell.execute_reply.started": "2023-03-27T11:46:35.400048Z"
    }
   },
   "outputs": [],
   "source": [
    "dataset=remove_special_chars(dataset)"
   ]
  },
  {
   "cell_type": "code",
   "execution_count": 9,
   "metadata": {
    "execution": {
     "iopub.execute_input": "2023-03-27T11:46:35.511216Z",
     "iopub.status.busy": "2023-03-27T11:46:35.510470Z",
     "iopub.status.idle": "2023-03-27T11:46:35.517204Z",
     "shell.execute_reply": "2023-03-27T11:46:35.515816Z",
     "shell.execute_reply.started": "2023-03-27T11:46:35.511180Z"
    }
   },
   "outputs": [],
   "source": [
    "def extract_all_chars(batch):\n",
    "  all_text = \" \".join(batch['transcript'])\n",
    "  vocab = set(all_text)\n",
    "  return vocab\n"
   ]
  },
  {
   "attachments": {},
   "cell_type": "markdown",
   "metadata": {},
   "source": [
    "### Uncomment the next 4 segments on the first run "
   ]
  },
  {
   "cell_type": "code",
   "execution_count": 10,
   "metadata": {
    "execution": {
     "iopub.execute_input": "2023-02-13T12:21:17.297523Z",
     "iopub.status.busy": "2023-02-13T12:21:17.297014Z",
     "iopub.status.idle": "2023-02-13T12:21:17.304119Z",
     "shell.execute_reply": "2023-02-13T12:21:17.302296Z",
     "shell.execute_reply.started": "2023-02-13T12:21:17.297484Z"
    }
   },
   "outputs": [],
   "source": [
    "# char_map = {v:k for k,v in enumerate(extract_all_chars(dataset))}\n",
    "# # print(char_map)"
   ]
  },
  {
   "cell_type": "code",
   "execution_count": 11,
   "metadata": {
    "execution": {
     "iopub.execute_input": "2023-02-13T12:21:17.613014Z",
     "iopub.status.busy": "2023-02-13T12:21:17.612395Z",
     "iopub.status.idle": "2023-02-13T12:21:17.621110Z",
     "shell.execute_reply": "2023-02-13T12:21:17.618390Z",
     "shell.execute_reply.started": "2023-02-13T12:21:17.612949Z"
    }
   },
   "outputs": [],
   "source": [
    "# char_map[\"|\"] = char_map[\" \"]\n",
    "# del char_map[\" \"]\n",
    "# print(char_map)"
   ]
  },
  {
   "cell_type": "code",
   "execution_count": 12,
   "metadata": {
    "execution": {
     "iopub.execute_input": "2023-02-13T12:21:19.043793Z",
     "iopub.status.busy": "2023-02-13T12:21:19.042936Z",
     "iopub.status.idle": "2023-02-13T12:21:19.051769Z",
     "shell.execute_reply": "2023-02-13T12:21:19.049555Z",
     "shell.execute_reply.started": "2023-02-13T12:21:19.043731Z"
    }
   },
   "outputs": [],
   "source": [
    "# char_map[\"[UNK]\"] = len(char_map)\n",
    "# char_map[\"[PAD]\"] = len(char_map)\n",
    "# len(char_map)"
   ]
  },
  {
   "cell_type": "code",
   "execution_count": 13,
   "metadata": {
    "execution": {
     "iopub.execute_input": "2023-02-13T12:21:19.331025Z",
     "iopub.status.busy": "2023-02-13T12:21:19.329859Z",
     "iopub.status.idle": "2023-02-13T12:21:19.339217Z",
     "shell.execute_reply": "2023-02-13T12:21:19.336734Z",
     "shell.execute_reply.started": "2023-02-13T12:21:19.330974Z"
    }
   },
   "outputs": [],
   "source": [
    "# with open('chars.json','w') as chars_file:\n",
    "#     json.dump(char_map, chars_file)"
   ]
  },
  {
   "cell_type": "code",
   "execution_count": 12,
   "metadata": {
    "execution": {
     "iopub.execute_input": "2023-02-20T06:14:38.375872Z",
     "iopub.status.busy": "2023-02-20T06:14:38.375441Z",
     "iopub.status.idle": "2023-02-20T06:14:38.394844Z",
     "shell.execute_reply": "2023-02-20T06:14:38.393598Z",
     "shell.execute_reply.started": "2023-02-20T06:14:38.375828Z"
    }
   },
   "outputs": [
    {
     "data": {
      "text/plain": [
       "{'ത': 0,\n",
       " 'ഹ': 2,\n",
       " 'ഊ': 3,\n",
       " 'ച': 4,\n",
       " 'ല': 5,\n",
       " 'ഫ': 6,\n",
       " 'ഗ': 7,\n",
       " 'ബ': 8,\n",
       " 'ക': 9,\n",
       " '്': 10,\n",
       " 'ദ': 11,\n",
       " 'സ': 12,\n",
       " 'ഇ': 13,\n",
       " 'ഓ': 14,\n",
       " 'ഋ': 15,\n",
       " 'ണ': 16,\n",
       " '\\u200c': 17,\n",
       " 'ം': 18,\n",
       " 'ഏ': 19,\n",
       " 'ഒ': 20,\n",
       " 'ഉ': 21,\n",
       " 'ൈ': 22,\n",
       " 'ട': 23,\n",
       " 'േ': 24,\n",
       " 'ഞ': 25,\n",
       " 'ൂ': 26,\n",
       " 'െ': 27,\n",
       " 'അ': 28,\n",
       " 'ഃ': 29,\n",
       " 'ഥ': 30,\n",
       " 'വ': 31,\n",
       " '\\u200d': 32,\n",
       " 'ര': 33,\n",
       " 'ോ': 34,\n",
       " 'മ': 35,\n",
       " 'ള': 36,\n",
       " 'ൃ': 37,\n",
       " 'ഖ': 38,\n",
       " 'ന': 39,\n",
       " 'ജ': 40,\n",
       " 'പ': 41,\n",
       " 'ഢ': 42,\n",
       " 'ഡ': 43,\n",
       " 'ഷ': 44,\n",
       " 'ങ': 45,\n",
       " 'ധ': 46,\n",
       " 'റ': 47,\n",
       " 'ൌ': 48,\n",
       " 'എ': 49,\n",
       " 'ാ': 50,\n",
       " 'ൊ': 51,\n",
       " 'ഐ': 52,\n",
       " 'ൗ': 53,\n",
       " 'ഈ': 54,\n",
       " 'ഛ': 55,\n",
       " 'ഭ': 56,\n",
       " 'ഔ': 57,\n",
       " 'ീ': 58,\n",
       " 'ു': 59,\n",
       " 'ഘ': 60,\n",
       " 'ഠ': 61,\n",
       " 'ഴ': 62,\n",
       " 'ൻ': 63,\n",
       " 'ൺ': 64,\n",
       " 'ൽ': 65,\n",
       " 'യ': 66,\n",
       " 'ശ': 67,\n",
       " 'ർ': 68,\n",
       " 'ൾ': 69,\n",
       " 'ആ': 70,\n",
       " 'ഝ': 71,\n",
       " 'ി': 72,\n",
       " '|': 1,\n",
       " '[UNK]': 73,\n",
       " '[PAD]': 74}"
      ]
     },
     "execution_count": 12,
     "metadata": {},
     "output_type": "execute_result"
    }
   ],
   "source": [
    "with open('/kaggle/input/icfoss-model/chars.json') as chars_file:\n",
    "    chars_map= json.load(chars_file)\n",
    "chars_map"
   ]
  },
  {
   "attachments": {},
   "cell_type": "markdown",
   "metadata": {},
   "source": [
    "### Uncomment next 5 snippets on first run"
   ]
  },
  {
   "cell_type": "code",
   "execution_count": 14,
   "metadata": {
    "execution": {
     "iopub.execute_input": "2023-02-19T17:10:38.767410Z",
     "iopub.status.busy": "2023-02-19T17:10:38.766789Z",
     "iopub.status.idle": "2023-02-19T17:10:38.771080Z",
     "shell.execute_reply": "2023-02-19T17:10:38.769944Z",
     "shell.execute_reply.started": "2023-02-19T17:10:38.767376Z"
    }
   },
   "outputs": [],
   "source": [
    "# tokenizer = Wav2Vec2CTCTokenizer(\"./chars.json\", unk_token=\"[UNK]\", pad_token=\"[PAD]\", word_delimiter_token=\"|\")\n",
    "# tokenizer"
   ]
  },
  {
   "cell_type": "code",
   "execution_count": 15,
   "metadata": {
    "execution": {
     "iopub.execute_input": "2023-02-19T17:10:42.915238Z",
     "iopub.status.busy": "2023-02-19T17:10:42.914343Z",
     "iopub.status.idle": "2023-02-19T17:10:42.920468Z",
     "shell.execute_reply": "2023-02-19T17:10:42.919165Z",
     "shell.execute_reply.started": "2023-02-19T17:10:42.915190Z"
    }
   },
   "outputs": [],
   "source": [
    "# feature_extractor = Wav2Vec2FeatureExtractor(feature_size=1, sampling_rate=16000, padding_value=0.0, do_normalize=True, return_attention_mask=True)\n",
    "# feature_extractor"
   ]
  },
  {
   "cell_type": "code",
   "execution_count": 10,
   "metadata": {
    "execution": {
     "iopub.execute_input": "2023-03-27T11:46:35.521862Z",
     "iopub.status.busy": "2023-03-27T11:46:35.521277Z",
     "iopub.status.idle": "2023-03-27T11:46:35.560173Z",
     "shell.execute_reply": "2023-03-27T11:46:35.558969Z",
     "shell.execute_reply.started": "2023-03-27T11:46:35.521816Z"
    }
   },
   "outputs": [
    {
     "name": "stderr",
     "output_type": "stream",
     "text": [
      "Special tokens have been added in the vocabulary, make sure the associated word embeddings are fine-tuned or trained.\n"
     ]
    }
   ],
   "source": [
    "processor = Wav2Vec2Processor.from_pretrained('/kaggle/input/icfoss-model')"
   ]
  },
  {
   "cell_type": "code",
   "execution_count": 21,
   "metadata": {
    "execution": {
     "iopub.execute_input": "2023-02-13T11:18:31.555842Z",
     "iopub.status.busy": "2023-02-13T11:18:31.555404Z",
     "iopub.status.idle": "2023-02-13T11:18:31.561288Z",
     "shell.execute_reply": "2023-02-13T11:18:31.559995Z",
     "shell.execute_reply.started": "2023-02-13T11:18:31.555803Z"
    }
   },
   "outputs": [],
   "source": [
    "# processor = Wav2Vec2Processor(feature_extractor=feature_extractor, tokenizer=tokenizer)"
   ]
  },
  {
   "cell_type": "code",
   "execution_count": 22,
   "metadata": {
    "execution": {
     "iopub.execute_input": "2023-02-13T11:18:32.260064Z",
     "iopub.status.busy": "2023-02-13T11:18:32.259613Z",
     "iopub.status.idle": "2023-02-13T11:18:32.267125Z",
     "shell.execute_reply": "2023-02-13T11:18:32.266064Z",
     "shell.execute_reply.started": "2023-02-13T11:18:32.260014Z"
    }
   },
   "outputs": [],
   "source": [
    "# processor.save_pretrained('model')"
   ]
  },
  {
   "cell_type": "code",
   "execution_count": 11,
   "metadata": {
    "execution": {
     "iopub.execute_input": "2023-03-27T11:46:35.562694Z",
     "iopub.status.busy": "2023-03-27T11:46:35.561973Z",
     "iopub.status.idle": "2023-03-27T11:46:35.567540Z",
     "shell.execute_reply": "2023-03-27T11:46:35.566395Z",
     "shell.execute_reply.started": "2023-03-27T11:46:35.562648Z"
    }
   },
   "outputs": [],
   "source": [
    "# train_data = dataset_splits[0]\n",
    "test_data = dataset_splits[1]\n",
    "# del dataset_splits"
   ]
  },
  {
   "cell_type": "code",
   "execution_count": 15,
   "metadata": {
    "execution": {
     "iopub.execute_input": "2023-02-20T06:14:46.986670Z",
     "iopub.status.busy": "2023-02-20T06:14:46.985965Z",
     "iopub.status.idle": "2023-02-20T06:14:46.993292Z",
     "shell.execute_reply": "2023-02-20T06:14:46.992167Z",
     "shell.execute_reply.started": "2023-02-20T06:14:46.986622Z"
    }
   },
   "outputs": [],
   "source": [
    "def speech_file_to_array_fn(batch):\n",
    "    speech_array, _= torchaudio.load(get_wav_path(batch['speaker'],batch['file']))\n",
    "    batch[\"speech\"] = speech_array[0].numpy()\n",
    "    return batch\n"
   ]
  },
  {
   "cell_type": "code",
   "execution_count": 13,
   "metadata": {
    "execution": {
     "iopub.execute_input": "2023-03-27T11:47:54.937292Z",
     "iopub.status.busy": "2023-03-27T11:47:54.936774Z",
     "iopub.status.idle": "2023-03-27T11:47:54.945668Z",
     "shell.execute_reply": "2023-03-27T11:47:54.943964Z",
     "shell.execute_reply.started": "2023-03-27T11:47:54.937247Z"
    }
   },
   "outputs": [],
   "source": [
    "def prep_frame(dataframe):\n",
    "    dataframe=dataframe.apply(lambda row:speech_file_to_array_fn(row),axis=1)\n",
    "    dataframe.drop(['speaker','file'],axis=1,inplace = True)\n",
    "    dataframe.rename(columns={'transcript':'target_text'},inplace = True);\n",
    "    dataframe.reset_index(drop=True,inplace = True)\n",
    "    return dataframe\n",
    "    "
   ]
  },
  {
   "cell_type": "code",
   "execution_count": 18,
   "metadata": {
    "execution": {
     "iopub.execute_input": "2023-02-20T06:15:18.324457Z",
     "iopub.status.busy": "2023-02-20T06:15:18.324022Z",
     "iopub.status.idle": "2023-02-20T06:20:17.272696Z",
     "shell.execute_reply": "2023-02-20T06:20:17.270818Z",
     "shell.execute_reply.started": "2023-02-20T06:15:18.324421Z"
    }
   },
   "outputs": [],
   "source": [
    "train_data=prep_frame(train_data)\n"
   ]
  },
  {
   "cell_type": "code",
   "execution_count": 20,
   "metadata": {
    "execution": {
     "iopub.execute_input": "2023-02-20T06:27:35.093644Z",
     "iopub.status.busy": "2023-02-20T06:27:35.093199Z",
     "iopub.status.idle": "2023-02-20T06:27:35.282466Z",
     "shell.execute_reply": "2023-02-20T06:27:35.280438Z",
     "shell.execute_reply.started": "2023-02-20T06:27:35.093606Z"
    }
   },
   "outputs": [
    {
     "data": {
      "text/plain": [
       "23"
      ]
     },
     "execution_count": 20,
     "metadata": {},
     "output_type": "execute_result"
    }
   ],
   "source": [
    "import gc\n",
    "gc.collect()"
   ]
  },
  {
   "cell_type": "code",
   "execution_count": 14,
   "metadata": {
    "execution": {
     "iopub.execute_input": "2023-03-27T11:47:57.374198Z",
     "iopub.status.busy": "2023-03-27T11:47:57.373765Z",
     "iopub.status.idle": "2023-03-27T11:49:10.458610Z",
     "shell.execute_reply": "2023-03-27T11:49:10.457272Z",
     "shell.execute_reply.started": "2023-03-27T11:47:57.374162Z"
    }
   },
   "outputs": [],
   "source": [
    "test_data=prep_frame(test_data)"
   ]
  },
  {
   "cell_type": "markdown",
   "metadata": {},
   "source": []
  },
  {
   "cell_type": "code",
   "execution_count": 28,
   "metadata": {
    "execution": {
     "iopub.execute_input": "2023-02-13T11:25:52.537086Z",
     "iopub.status.busy": "2023-02-13T11:25:52.536755Z",
     "iopub.status.idle": "2023-02-13T11:25:52.566015Z",
     "shell.execute_reply": "2023-02-13T11:25:52.564837Z",
     "shell.execute_reply.started": "2023-02-13T11:25:52.537058Z"
    }
   },
   "outputs": [
    {
     "data": {
      "text/html": [
       "\n",
       "                <audio  controls=\"controls\" >\n",
       "                    <source src=\"data:audio/wav;base64,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\" type=\"audio/wav\" />\n",
       "                    Your browser does not support the audio element.\n",
       "                </audio>\n",
       "              "
      ],
      "text/plain": [
       "<IPython.lib.display.Audio object>"
      ]
     },
     "execution_count": 28,
     "metadata": {},
     "output_type": "execute_result"
    }
   ],
   "source": [
    "rand_int = random.randint(0, len(test_data)-1)\n",
    "ipd.Audio(data=np.asarray(test_data.loc[rand_int][\"speech\"]), autoplay=False, rate=16000)\n"
   ]
  },
  {
   "cell_type": "code",
   "execution_count": 21,
   "metadata": {
    "execution": {
     "iopub.execute_input": "2023-02-19T17:11:14.308287Z",
     "iopub.status.busy": "2023-02-19T17:11:14.307439Z",
     "iopub.status.idle": "2023-02-19T17:11:14.314669Z",
     "shell.execute_reply": "2023-02-19T17:11:14.313340Z",
     "shell.execute_reply.started": "2023-02-19T17:11:14.308243Z"
    }
   },
   "outputs": [],
   "source": [
    "sr=16000;\n",
    "def prepare_dataset(frame):\n",
    "    frame[\"input_values\"] = processor(frame[\"speech\"], sampling_rate=sr).input_values[0]\n",
    "    with processor.as_target_processor():\n",
    "        frame[\"labels\"] = processor(frame[\"target_text\"]).input_ids\n",
    "    return frame\n"
   ]
  },
  {
   "cell_type": "code",
   "execution_count": 22,
   "metadata": {
    "execution": {
     "iopub.execute_input": "2023-02-19T17:11:15.684136Z",
     "iopub.status.busy": "2023-02-19T17:11:15.683686Z",
     "iopub.status.idle": "2023-02-19T17:11:22.631241Z",
     "shell.execute_reply": "2023-02-19T17:11:22.630008Z",
     "shell.execute_reply.started": "2023-02-19T17:11:15.684098Z"
    }
   },
   "outputs": [],
   "source": [
    "train_data = train_data.apply(lambda row: prepare_dataset(row),axis=1)\n"
   ]
  },
  {
   "cell_type": "code",
   "execution_count": 23,
   "metadata": {
    "execution": {
     "iopub.execute_input": "2023-02-19T17:11:32.584100Z",
     "iopub.status.busy": "2023-02-19T17:11:32.583296Z",
     "iopub.status.idle": "2023-02-19T17:11:32.633260Z",
     "shell.execute_reply": "2023-02-19T17:11:32.632105Z",
     "shell.execute_reply.started": "2023-02-19T17:11:32.584059Z"
    }
   },
   "outputs": [
    {
     "data": {
      "text/html": [
       "<div>\n",
       "<style scoped>\n",
       "    .dataframe tbody tr th:only-of-type {\n",
       "        vertical-align: middle;\n",
       "    }\n",
       "\n",
       "    .dataframe tbody tr th {\n",
       "        vertical-align: top;\n",
       "    }\n",
       "\n",
       "    .dataframe thead th {\n",
       "        text-align: right;\n",
       "    }\n",
       "</style>\n",
       "<table border=\"1\" class=\"dataframe\">\n",
       "  <thead>\n",
       "    <tr style=\"text-align: right;\">\n",
       "      <th></th>\n",
       "      <th>target_text</th>\n",
       "      <th>speech</th>\n",
       "      <th>input_values</th>\n",
       "      <th>labels</th>\n",
       "    </tr>\n",
       "  </thead>\n",
       "  <tbody>\n",
       "    <tr>\n",
       "      <th>0</th>\n",
       "      <td>സമസ്ത അധ്യക്ഷൻ ഫഖ്റുദ്ദീൻ തങ്ങൾ സമാപന പ്രസംഗം ...</td>\n",
       "      <td>[0.0055236816, 0.005432129, 0.005432129, 0.005...</td>\n",
       "      <td>[0.06451574, 0.06344566, 0.06344566, 0.0634456...</td>\n",
       "      <td>[12, 35, 12, 10, 0, 1, 28, 46, 10, 66, 9, 10, ...</td>\n",
       "    </tr>\n",
       "    <tr>\n",
       "      <th>1</th>\n",
       "      <td>പട്ടണത്തിൽ ഒരു ജനറൽ സ്റ്റോറും തപാലോഫീസും പ്രവർ...</td>\n",
       "      <td>[0.0012512207, 0.0014953613, 0.0016784668, 0.0...</td>\n",
       "      <td>[0.013414312, 0.016056163, 0.018037552, 0.0177...</td>\n",
       "      <td>[41, 23, 10, 23, 16, 0, 10, 0, 72, 65, 1, 20, ...</td>\n",
       "    </tr>\n",
       "    <tr>\n",
       "      <th>2</th>\n",
       "      <td>പാർട്ടിയിൽ ചേർന്നതിനു പിന്നാലെ ഉയർത്തിയ കലാപക്...</td>\n",
       "      <td>[-3.0517578e-05, -3.0517578e-05, 0.0, 0.0, 0.0...</td>\n",
       "      <td>[-0.00031907205, -0.00031907205, 0.0002029179,...</td>\n",
       "      <td>[41, 50, 68, 23, 10, 23, 72, 66, 72, 65, 1, 4,...</td>\n",
       "    </tr>\n",
       "    <tr>\n",
       "      <th>3</th>\n",
       "      <td>അതിനുമുൻപ് ഇതൊരു ദ്രാവിഡീയക്ഷേത്രവും പിന്നീട് ...</td>\n",
       "      <td>[-0.00012207031, -0.00024414062, -0.0002746582...</td>\n",
       "      <td>[-0.00325805, -0.0063397484, -0.007110173, -0....</td>\n",
       "      <td>[28, 0, 72, 39, 59, 35, 59, 63, 41, 10, 1, 13,...</td>\n",
       "    </tr>\n",
       "    <tr>\n",
       "      <th>4</th>\n",
       "      <td>ആദ്യത്തെ ലെഫ്റ്റനന്റ് ഗവർണറായി ജോണിനെ നിയമിക്ക...</td>\n",
       "      <td>[-0.000579834, -0.0010070801, -0.0009460449, -...</td>\n",
       "      <td>[-0.008921764, -0.015551624, -0.0146045005, -0...</td>\n",
       "      <td>[70, 11, 10, 66, 0, 10, 0, 27, 1, 5, 27, 6, 10...</td>\n",
       "    </tr>\n",
       "    <tr>\n",
       "      <th>5</th>\n",
       "      <td>ഔദ്യോഗിക വെബ്സൈറ്റിലും ഇതുസംബന്ധിച്ച് അറിയിപ്പ...</td>\n",
       "      <td>[0.008392334, 0.008392334, 0.008300781, 0.0082...</td>\n",
       "      <td>[0.09528789, 0.09528789, 0.09424668, 0.0932054...</td>\n",
       "      <td>[57, 11, 10, 66, 34, 7, 72, 9, 1, 31, 27, 8, 1...</td>\n",
       "    </tr>\n",
       "    <tr>\n",
       "      <th>6</th>\n",
       "      <td>വരുംദിവസങ്ങളിൽ ജൈവകർഷകസദസ്സ്, ഫോക് മെഗാഷോ എന്ന...</td>\n",
       "      <td>[0.0004272461, 0.00076293945, 0.0006713867, 0....</td>\n",
       "      <td>[0.011046019, 0.019643787, 0.01729894, 0.01886...</td>\n",
       "      <td>[31, 33, 59, 18, 11, 72, 31, 12, 45, 10, 45, 3...</td>\n",
       "    </tr>\n",
       "    <tr>\n",
       "      <th>7</th>\n",
       "      <td>കലാപം കാരണം അഭയാർത്ഥികൾ തെക്കോട്ട് നീങ്ങുകയുമു...</td>\n",
       "      <td>[0.0002746582, 0.0008239746, 0.00021362305, -0...</td>\n",
       "      <td>[0.0030928494, 0.009364241, 0.0023960283, -0.0...</td>\n",
       "      <td>[9, 5, 50, 41, 18, 1, 9, 50, 33, 16, 18, 1, 28...</td>\n",
       "    </tr>\n",
       "    <tr>\n",
       "      <th>8</th>\n",
       "      <td>ചരിത്രം അത് പാലിയം എന്ന കുടുംബവുമായി ബന്ധപ്പെട...</td>\n",
       "      <td>[0.023590088, 0.023925781, 0.024169922, 0.0244...</td>\n",
       "      <td>[0.25825748, 0.26196063, 0.2646538, 0.26768366...</td>\n",
       "      <td>[4, 33, 72, 0, 10, 33, 18, 1, 28, 0, 10, 1, 41...</td>\n",
       "    </tr>\n",
       "    <tr>\n",
       "      <th>9</th>\n",
       "      <td>അമേരിക്കയിലെ വിദഗ്ദ്ധന്മാർ ഇതുവരെ അർഗ്രാരിയൻ ഭ...</td>\n",
       "      <td>[0.0, 0.0, -6.1035156e-05, 0.0, 0.0, 0.0, 0.0,...</td>\n",
       "      <td>[1.1731718e-05, 1.1731718e-05, -0.00075405074,...</td>\n",
       "      <td>[28, 35, 24, 33, 72, 9, 10, 9, 66, 72, 5, 27, ...</td>\n",
       "    </tr>\n",
       "  </tbody>\n",
       "</table>\n",
       "</div>"
      ],
      "text/plain": [
       "                                         target_text  \\\n",
       "0  സമസ്ത അധ്യക്ഷൻ ഫഖ്റുദ്ദീൻ തങ്ങൾ സമാപന പ്രസംഗം ...   \n",
       "1  പട്ടണത്തിൽ ഒരു ജനറൽ സ്റ്റോറും തപാലോഫീസും പ്രവർ...   \n",
       "2  പാർട്ടിയിൽ ചേർന്നതിനു പിന്നാലെ ഉയർത്തിയ കലാപക്...   \n",
       "3  അതിനുമുൻപ് ഇതൊരു ദ്രാവിഡീയക്ഷേത്രവും പിന്നീട് ...   \n",
       "4  ആദ്യത്തെ ലെഫ്റ്റനന്റ് ഗവർണറായി ജോണിനെ നിയമിക്ക...   \n",
       "5  ഔദ്യോഗിക വെബ്സൈറ്റിലും ഇതുസംബന്ധിച്ച് അറിയിപ്പ...   \n",
       "6  വരുംദിവസങ്ങളിൽ ജൈവകർഷകസദസ്സ്, ഫോക് മെഗാഷോ എന്ന...   \n",
       "7  കലാപം കാരണം അഭയാർത്ഥികൾ തെക്കോട്ട് നീങ്ങുകയുമു...   \n",
       "8  ചരിത്രം അത് പാലിയം എന്ന കുടുംബവുമായി ബന്ധപ്പെട...   \n",
       "9  അമേരിക്കയിലെ വിദഗ്ദ്ധന്മാർ ഇതുവരെ അർഗ്രാരിയൻ ഭ...   \n",
       "\n",
       "                                              speech  \\\n",
       "0  [0.0055236816, 0.005432129, 0.005432129, 0.005...   \n",
       "1  [0.0012512207, 0.0014953613, 0.0016784668, 0.0...   \n",
       "2  [-3.0517578e-05, -3.0517578e-05, 0.0, 0.0, 0.0...   \n",
       "3  [-0.00012207031, -0.00024414062, -0.0002746582...   \n",
       "4  [-0.000579834, -0.0010070801, -0.0009460449, -...   \n",
       "5  [0.008392334, 0.008392334, 0.008300781, 0.0082...   \n",
       "6  [0.0004272461, 0.00076293945, 0.0006713867, 0....   \n",
       "7  [0.0002746582, 0.0008239746, 0.00021362305, -0...   \n",
       "8  [0.023590088, 0.023925781, 0.024169922, 0.0244...   \n",
       "9  [0.0, 0.0, -6.1035156e-05, 0.0, 0.0, 0.0, 0.0,...   \n",
       "\n",
       "                                        input_values  \\\n",
       "0  [0.06451574, 0.06344566, 0.06344566, 0.0634456...   \n",
       "1  [0.013414312, 0.016056163, 0.018037552, 0.0177...   \n",
       "2  [-0.00031907205, -0.00031907205, 0.0002029179,...   \n",
       "3  [-0.00325805, -0.0063397484, -0.007110173, -0....   \n",
       "4  [-0.008921764, -0.015551624, -0.0146045005, -0...   \n",
       "5  [0.09528789, 0.09528789, 0.09424668, 0.0932054...   \n",
       "6  [0.011046019, 0.019643787, 0.01729894, 0.01886...   \n",
       "7  [0.0030928494, 0.009364241, 0.0023960283, -0.0...   \n",
       "8  [0.25825748, 0.26196063, 0.2646538, 0.26768366...   \n",
       "9  [1.1731718e-05, 1.1731718e-05, -0.00075405074,...   \n",
       "\n",
       "                                              labels  \n",
       "0  [12, 35, 12, 10, 0, 1, 28, 46, 10, 66, 9, 10, ...  \n",
       "1  [41, 23, 10, 23, 16, 0, 10, 0, 72, 65, 1, 20, ...  \n",
       "2  [41, 50, 68, 23, 10, 23, 72, 66, 72, 65, 1, 4,...  \n",
       "3  [28, 0, 72, 39, 59, 35, 59, 63, 41, 10, 1, 13,...  \n",
       "4  [70, 11, 10, 66, 0, 10, 0, 27, 1, 5, 27, 6, 10...  \n",
       "5  [57, 11, 10, 66, 34, 7, 72, 9, 1, 31, 27, 8, 1...  \n",
       "6  [31, 33, 59, 18, 11, 72, 31, 12, 45, 10, 45, 3...  \n",
       "7  [9, 5, 50, 41, 18, 1, 9, 50, 33, 16, 18, 1, 28...  \n",
       "8  [4, 33, 72, 0, 10, 33, 18, 1, 28, 0, 10, 1, 41...  \n",
       "9  [28, 35, 24, 33, 72, 9, 10, 9, 66, 72, 5, 27, ...  "
      ]
     },
     "execution_count": 23,
     "metadata": {},
     "output_type": "execute_result"
    }
   ],
   "source": [
    "train_data"
   ]
  },
  {
   "cell_type": "code",
   "execution_count": 23,
   "metadata": {
    "execution": {
     "iopub.execute_input": "2023-02-13T12:23:08.188101Z",
     "iopub.status.busy": "2023-02-13T12:23:08.187735Z",
     "iopub.status.idle": "2023-02-13T12:23:35.134463Z",
     "shell.execute_reply": "2023-02-13T12:23:35.133016Z",
     "shell.execute_reply.started": "2023-02-13T12:23:08.188068Z"
    }
   },
   "outputs": [],
   "source": [
    "test_data = test_data.apply(lambda row: prepare_dataset(row),axis=1)"
   ]
  },
  {
   "cell_type": "code",
   "execution_count": 22,
   "metadata": {
    "execution": {
     "iopub.execute_input": "2023-03-27T11:51:19.229372Z",
     "iopub.status.busy": "2023-03-27T11:51:19.228234Z",
     "iopub.status.idle": "2023-03-27T11:51:19.246999Z",
     "shell.execute_reply": "2023-03-27T11:51:19.245530Z",
     "shell.execute_reply.started": "2023-03-27T11:51:19.229326Z"
    }
   },
   "outputs": [
    {
     "data": {
      "text/html": [
       "<div>\n",
       "<style scoped>\n",
       "    .dataframe tbody tr th:only-of-type {\n",
       "        vertical-align: middle;\n",
       "    }\n",
       "\n",
       "    .dataframe tbody tr th {\n",
       "        vertical-align: top;\n",
       "    }\n",
       "\n",
       "    .dataframe thead th {\n",
       "        text-align: right;\n",
       "    }\n",
       "</style>\n",
       "<table border=\"1\" class=\"dataframe\">\n",
       "  <thead>\n",
       "    <tr style=\"text-align: right;\">\n",
       "      <th></th>\n",
       "      <th>target_text</th>\n",
       "      <th>speech</th>\n",
       "    </tr>\n",
       "  </thead>\n",
       "  <tbody>\n",
       "    <tr>\n",
       "      <th>0</th>\n",
       "      <td>നിങ്ങളുടെ പിതാവിന്റെ ആഗ്രഹങ്ങൾ നിറവേറ്റാനാണ് ന...</td>\n",
       "      <td>[0.00018310547, 0.00033569336, 0.00021362305, ...</td>\n",
       "    </tr>\n",
       "    <tr>\n",
       "      <th>1</th>\n",
       "      <td>എന്റെ കയ്യിൽ അത്തരം പേരിലുള്ള ഒന്നും ഇല്ല</td>\n",
       "      <td>[0.0, 0.0, 0.0, 0.0, 0.0, 0.0, 0.0, 0.0, 0.0, ...</td>\n",
       "    </tr>\n",
       "    <tr>\n",
       "      <th>2</th>\n",
       "      <td>വ്യത്യസ്ത ഇനം ഓർക്കിഡുകളും ദേശീയോദ്യാനത്തിൽ കാ...</td>\n",
       "      <td>[0.00021362305, 0.00015258789, 9.1552734e-05, ...</td>\n",
       "    </tr>\n",
       "    <tr>\n",
       "      <th>3</th>\n",
       "      <td>മത്സ്യബന്ധനമാണ് പട്ടണത്തിലെ ആളുകളുടെ പ്രധാന തൊഴിൽ</td>\n",
       "      <td>[-0.00036621094, 0.0, -0.000579834, -0.0015258...</td>\n",
       "    </tr>\n",
       "    <tr>\n",
       "      <th>4</th>\n",
       "      <td>ബിയറിന്റെ സാമ്പിളിൽ നിന്ന് മെഥനൊൾ കണ്ടെത്താൻ ക...</td>\n",
       "      <td>[-0.00048828125, -0.00088500977, -0.0006713867...</td>\n",
       "    </tr>\n",
       "  </tbody>\n",
       "</table>\n",
       "</div>"
      ],
      "text/plain": [
       "                                         target_text  \\\n",
       "0  നിങ്ങളുടെ പിതാവിന്റെ ആഗ്രഹങ്ങൾ നിറവേറ്റാനാണ് ന...   \n",
       "1          എന്റെ കയ്യിൽ അത്തരം പേരിലുള്ള ഒന്നും ഇല്ല   \n",
       "2  വ്യത്യസ്ത ഇനം ഓർക്കിഡുകളും ദേശീയോദ്യാനത്തിൽ കാ...   \n",
       "3  മത്സ്യബന്ധനമാണ് പട്ടണത്തിലെ ആളുകളുടെ പ്രധാന തൊഴിൽ   \n",
       "4  ബിയറിന്റെ സാമ്പിളിൽ നിന്ന് മെഥനൊൾ കണ്ടെത്താൻ ക...   \n",
       "\n",
       "                                              speech  \n",
       "0  [0.00018310547, 0.00033569336, 0.00021362305, ...  \n",
       "1  [0.0, 0.0, 0.0, 0.0, 0.0, 0.0, 0.0, 0.0, 0.0, ...  \n",
       "2  [0.00021362305, 0.00015258789, 9.1552734e-05, ...  \n",
       "3  [-0.00036621094, 0.0, -0.000579834, -0.0015258...  \n",
       "4  [-0.00048828125, -0.00088500977, -0.0006713867...  "
      ]
     },
     "execution_count": 22,
     "metadata": {},
     "output_type": "execute_result"
    }
   ],
   "source": [
    "test_data.head()"
   ]
  },
  {
   "cell_type": "code",
   "execution_count": 24,
   "metadata": {
    "execution": {
     "iopub.execute_input": "2023-02-13T12:23:35.137482Z",
     "iopub.status.busy": "2023-02-13T12:23:35.136726Z",
     "iopub.status.idle": "2023-02-13T12:23:35.169282Z",
     "shell.execute_reply": "2023-02-13T12:23:35.168127Z",
     "shell.execute_reply.started": "2023-02-13T12:23:35.137445Z"
    }
   },
   "outputs": [
    {
     "data": {
      "text/html": [
       "<div>\n",
       "<style scoped>\n",
       "    .dataframe tbody tr th:only-of-type {\n",
       "        vertical-align: middle;\n",
       "    }\n",
       "\n",
       "    .dataframe tbody tr th {\n",
       "        vertical-align: top;\n",
       "    }\n",
       "\n",
       "    .dataframe thead th {\n",
       "        text-align: right;\n",
       "    }\n",
       "</style>\n",
       "<table border=\"1\" class=\"dataframe\">\n",
       "  <thead>\n",
       "    <tr style=\"text-align: right;\">\n",
       "      <th></th>\n",
       "      <th>target_text</th>\n",
       "      <th>speech</th>\n",
       "      <th>input_values</th>\n",
       "      <th>labels</th>\n",
       "    </tr>\n",
       "  </thead>\n",
       "  <tbody>\n",
       "    <tr>\n",
       "      <th>0</th>\n",
       "      <td>നിങ്ങളുടെ പിതാവിന്റെ ആഗ്രഹങ്ങൾ നിറവേറ്റാനാണ് ന...</td>\n",
       "      <td>[0.00018310547, 0.00033569336, 0.00021362305, ...</td>\n",
       "      <td>[0.0019598715, 0.0034763117, 0.0022631595, 0.0...</td>\n",
       "      <td>[39, 72, 45, 10, 45, 36, 59, 23, 27, 1, 41, 72...</td>\n",
       "    </tr>\n",
       "    <tr>\n",
       "      <th>1</th>\n",
       "      <td>എന്റെ കയ്യിൽ അത്തരം പേരിലുള്ള ഒന്നും ഇല്ല</td>\n",
       "      <td>[0.0, 0.0, 0.0, 0.0, 0.0, 0.0, 0.0, 0.0, 0.0, ...</td>\n",
       "      <td>[-2.2516522e-05, -2.2516522e-05, -2.2516522e-0...</td>\n",
       "      <td>[49, 39, 10, 47, 27, 1, 9, 66, 10, 66, 72, 65,...</td>\n",
       "    </tr>\n",
       "    <tr>\n",
       "      <th>2</th>\n",
       "      <td>വ്യത്യസ്ത ഇനം ഓർക്കിഡുകളും ദേശീയോദ്യാനത്തിൽ കാ...</td>\n",
       "      <td>[0.00021362305, 0.00015258789, 9.1552734e-05, ...</td>\n",
       "      <td>[0.00188044, 0.0013312843, 0.0007821285, 0.000...</td>\n",
       "      <td>[31, 10, 66, 0, 10, 66, 12, 10, 0, 1, 13, 39, ...</td>\n",
       "    </tr>\n",
       "    <tr>\n",
       "      <th>3</th>\n",
       "      <td>മത്സ്യബന്ധനമാണ് പട്ടണത്തിലെ ആളുകളുടെ പ്രധാന തൊഴിൽ</td>\n",
       "      <td>[-0.00036621094, 0.0, -0.000579834, -0.0015258...</td>\n",
       "      <td>[-0.0036230274, -1.6695978e-05, -0.0057267207,...</td>\n",
       "      <td>[35, 0, 10, 12, 10, 66, 8, 39, 10, 46, 39, 35,...</td>\n",
       "    </tr>\n",
       "    <tr>\n",
       "      <th>4</th>\n",
       "      <td>ബിയറിന്റെ സാമ്പിളിൽ നിന്ന് മെഥനൊൾ കണ്ടെത്താൻ ക...</td>\n",
       "      <td>[-0.00048828125, -0.00088500977, -0.0006713867...</td>\n",
       "      <td>[-0.0061827693, -0.011047271, -0.008427924, -0...</td>\n",
       "      <td>[8, 72, 66, 47, 72, 39, 10, 47, 27, 1, 12, 50,...</td>\n",
       "    </tr>\n",
       "  </tbody>\n",
       "</table>\n",
       "</div>"
      ],
      "text/plain": [
       "                                         target_text  \\\n",
       "0  നിങ്ങളുടെ പിതാവിന്റെ ആഗ്രഹങ്ങൾ നിറവേറ്റാനാണ് ന...   \n",
       "1          എന്റെ കയ്യിൽ അത്തരം പേരിലുള്ള ഒന്നും ഇല്ല   \n",
       "2  വ്യത്യസ്ത ഇനം ഓർക്കിഡുകളും ദേശീയോദ്യാനത്തിൽ കാ...   \n",
       "3  മത്സ്യബന്ധനമാണ് പട്ടണത്തിലെ ആളുകളുടെ പ്രധാന തൊഴിൽ   \n",
       "4  ബിയറിന്റെ സാമ്പിളിൽ നിന്ന് മെഥനൊൾ കണ്ടെത്താൻ ക...   \n",
       "\n",
       "                                              speech  \\\n",
       "0  [0.00018310547, 0.00033569336, 0.00021362305, ...   \n",
       "1  [0.0, 0.0, 0.0, 0.0, 0.0, 0.0, 0.0, 0.0, 0.0, ...   \n",
       "2  [0.00021362305, 0.00015258789, 9.1552734e-05, ...   \n",
       "3  [-0.00036621094, 0.0, -0.000579834, -0.0015258...   \n",
       "4  [-0.00048828125, -0.00088500977, -0.0006713867...   \n",
       "\n",
       "                                        input_values  \\\n",
       "0  [0.0019598715, 0.0034763117, 0.0022631595, 0.0...   \n",
       "1  [-2.2516522e-05, -2.2516522e-05, -2.2516522e-0...   \n",
       "2  [0.00188044, 0.0013312843, 0.0007821285, 0.000...   \n",
       "3  [-0.0036230274, -1.6695978e-05, -0.0057267207,...   \n",
       "4  [-0.0061827693, -0.011047271, -0.008427924, -0...   \n",
       "\n",
       "                                              labels  \n",
       "0  [39, 72, 45, 10, 45, 36, 59, 23, 27, 1, 41, 72...  \n",
       "1  [49, 39, 10, 47, 27, 1, 9, 66, 10, 66, 72, 65,...  \n",
       "2  [31, 10, 66, 0, 10, 66, 12, 10, 0, 1, 13, 39, ...  \n",
       "3  [35, 0, 10, 12, 10, 66, 8, 39, 10, 46, 39, 35,...  \n",
       "4  [8, 72, 66, 47, 72, 39, 10, 47, 27, 1, 12, 50,...  "
      ]
     },
     "execution_count": 24,
     "metadata": {},
     "output_type": "execute_result"
    }
   ],
   "source": [
    "test_data.head()"
   ]
  },
  {
   "cell_type": "code",
   "execution_count": 26,
   "metadata": {
    "execution": {
     "iopub.execute_input": "2023-02-13T10:37:09.915765Z",
     "iopub.status.busy": "2023-02-13T10:37:09.915315Z",
     "iopub.status.idle": "2023-02-13T10:37:09.937893Z",
     "shell.execute_reply": "2023-02-13T10:37:09.936175Z",
     "shell.execute_reply.started": "2023-02-13T10:37:09.915729Z"
    }
   },
   "outputs": [
    {
     "name": "stdout",
     "output_type": "stream",
     "text": [
      "<class 'pandas.core.frame.DataFrame'>\n",
      "RangeIndex: 51 entries, 0 to 50\n",
      "Data columns (total 4 columns):\n",
      " #   Column        Non-Null Count  Dtype \n",
      "---  ------        --------------  ----- \n",
      " 0   target_text   51 non-null     object\n",
      " 1   speech        51 non-null     object\n",
      " 2   input_values  51 non-null     object\n",
      " 3   labels        51 non-null     object\n",
      "dtypes: object(4)\n",
      "memory usage: 15.4 MB\n"
     ]
    }
   ],
   "source": [
    "# test_data.loc[:50].info(memory_usage='deep')"
   ]
  },
  {
   "cell_type": "code",
   "execution_count": 23,
   "metadata": {
    "execution": {
     "iopub.execute_input": "2023-02-13T11:37:26.258635Z",
     "iopub.status.busy": "2023-02-13T11:37:26.258165Z",
     "iopub.status.idle": "2023-02-13T11:37:26.264312Z",
     "shell.execute_reply": "2023-02-13T11:37:26.262945Z",
     "shell.execute_reply.started": "2023-02-13T11:37:26.258592Z"
    }
   },
   "outputs": [],
   "source": [
    "# import hashlib\n",
    "# hashlib.sha1(pd.util.hash_pandas_object(test_data.loc[:50]['labels']).values).hexdigest() \n"
   ]
  },
  {
   "cell_type": "code",
   "execution_count": 40,
   "metadata": {
    "execution": {
     "iopub.execute_input": "2023-02-13T10:19:01.814556Z",
     "iopub.status.busy": "2023-02-13T10:19:01.814096Z",
     "iopub.status.idle": "2023-02-13T10:19:01.830923Z",
     "shell.execute_reply": "2023-02-13T10:19:01.829669Z",
     "shell.execute_reply.started": "2023-02-13T10:19:01.814521Z"
    }
   },
   "outputs": [
    {
     "data": {
      "text/plain": [
       "6.84403"
      ]
     },
     "execution_count": 40,
     "metadata": {},
     "output_type": "execute_result"
    }
   ],
   "source": [
    "import sys\n",
    "sys.getsizeof(test_data)/1000000"
   ]
  },
  {
   "cell_type": "code",
   "execution_count": 20,
   "metadata": {
    "execution": {
     "iopub.execute_input": "2023-03-27T11:50:50.195403Z",
     "iopub.status.busy": "2023-03-27T11:50:50.194996Z",
     "iopub.status.idle": "2023-03-27T11:50:50.201287Z",
     "shell.execute_reply": "2023-03-27T11:50:50.200071Z",
     "shell.execute_reply.started": "2023-03-27T11:50:50.195370Z"
    }
   },
   "outputs": [],
   "source": [
    "import sys\n",
    "import numpy\n",
    "numpy.set_printoptions(threshold=sys.maxsize)\n"
   ]
  },
  {
   "cell_type": "code",
   "execution_count": 21,
   "metadata": {
    "execution": {
     "iopub.execute_input": "2023-02-14T11:39:11.887264Z",
     "iopub.status.busy": "2023-02-14T11:39:11.886882Z",
     "iopub.status.idle": "2023-02-14T11:39:11.895908Z",
     "shell.execute_reply": "2023-02-14T11:39:11.894653Z",
     "shell.execute_reply.started": "2023-02-14T11:39:11.887235Z"
    }
   },
   "outputs": [
    {
     "data": {
      "text/plain": [
       "(27578, 4)"
      ]
     },
     "execution_count": 21,
     "metadata": {},
     "output_type": "execute_result"
    }
   ],
   "source": [
    "train_data.shape"
   ]
  },
  {
   "cell_type": "code",
   "execution_count": 22,
   "metadata": {
    "execution": {
     "iopub.execute_input": "2023-02-14T11:39:14.750880Z",
     "iopub.status.busy": "2023-02-14T11:39:14.750023Z",
     "iopub.status.idle": "2023-02-14T11:39:14.757743Z",
     "shell.execute_reply": "2023-02-14T11:39:14.756333Z",
     "shell.execute_reply.started": "2023-02-14T11:39:14.750831Z"
    }
   },
   "outputs": [
    {
     "data": {
      "text/plain": [
       "(13000, 4)"
      ]
     },
     "execution_count": 22,
     "metadata": {},
     "output_type": "execute_result"
    }
   ],
   "source": [
    "train_data.shape"
   ]
  },
  {
   "cell_type": "code",
   "execution_count": 1,
   "metadata": {
    "execution": {
     "iopub.execute_input": "2023-02-14T15:56:45.592593Z",
     "iopub.status.busy": "2023-02-14T15:56:45.591691Z",
     "iopub.status.idle": "2023-02-14T15:56:45.685815Z",
     "shell.execute_reply": "2023-02-14T15:56:45.684126Z",
     "shell.execute_reply.started": "2023-02-14T15:56:45.592494Z"
    }
   },
   "outputs": [
    {
     "ename": "NameError",
     "evalue": "name 'train_data' is not defined",
     "output_type": "error",
     "traceback": [
      "\u001b[0;31m---------------------------------------------------------------------------\u001b[0m",
      "\u001b[0;31mNameError\u001b[0m                                 Traceback (most recent call last)",
      "\u001b[0;32m/tmp/ipykernel_28/974029396.py\u001b[0m in \u001b[0;36m<module>\u001b[0;34m\u001b[0m\n\u001b[0;32m----> 1\u001b[0;31m \u001b[0mtrain_data\u001b[0m\u001b[0;34m[\u001b[0m\u001b[0;36m13000\u001b[0m\u001b[0;34m:\u001b[0m\u001b[0;34m]\u001b[0m\u001b[0;34m.\u001b[0m\u001b[0mhead\u001b[0m\u001b[0;34m(\u001b[0m\u001b[0;34m)\u001b[0m\u001b[0;34m\u001b[0m\u001b[0;34m\u001b[0m\u001b[0m\n\u001b[0m",
      "\u001b[0;31mNameError\u001b[0m: name 'train_data' is not defined"
     ]
    }
   ],
   "source": [
    "train_data.head()"
   ]
  },
  {
   "cell_type": "code",
   "execution_count": 24,
   "metadata": {
    "execution": {
     "iopub.execute_input": "2023-02-14T11:39:51.479376Z",
     "iopub.status.busy": "2023-02-14T11:39:51.478994Z",
     "iopub.status.idle": "2023-02-14T11:40:30.375340Z",
     "shell.execute_reply": "2023-02-14T11:40:30.374053Z",
     "shell.execute_reply.started": "2023-02-14T11:39:51.479344Z"
    }
   },
   "outputs": [],
   "source": [
    "train_data.to_pickle('train_data.pkl')"
   ]
  },
  {
   "cell_type": "code",
   "execution_count": 27,
   "metadata": {
    "execution": {
     "iopub.execute_input": "2023-02-13T12:25:12.509400Z",
     "iopub.status.busy": "2023-02-13T12:25:12.508867Z",
     "iopub.status.idle": "2023-02-13T12:25:26.530680Z",
     "shell.execute_reply": "2023-02-13T12:25:26.527893Z",
     "shell.execute_reply.started": "2023-02-13T12:25:12.509360Z"
    }
   },
   "outputs": [],
   "source": [
    "test_data.to_pickle('test_data_final.pkl')"
   ]
  },
  {
   "cell_type": "code",
   "execution_count": 34,
   "metadata": {
    "execution": {
     "iopub.execute_input": "2023-02-13T11:28:33.048363Z",
     "iopub.status.busy": "2023-02-13T11:28:33.047810Z",
     "iopub.status.idle": "2023-02-13T11:28:33.053215Z",
     "shell.execute_reply": "2023-02-13T11:28:33.051865Z",
     "shell.execute_reply.started": "2023-02-13T11:28:33.048322Z"
    }
   },
   "outputs": [],
   "source": [
    "# import hashlib\n",
    "# hashlib.sha1(pd.util.hash_pandas_object(test_data.loc[:50]).values).hexdigest() "
   ]
  },
  {
   "cell_type": "code",
   "execution_count": null,
   "metadata": {
    "execution": {
     "iopub.execute_input": "2023-02-13T11:29:08.600872Z",
     "iopub.status.busy": "2023-02-13T11:29:08.600467Z"
    }
   },
   "outputs": [],
   "source": [
    "train_data.to_pickle('train_data.pkl')"
   ]
  },
  {
   "cell_type": "code",
   "execution_count": 23,
   "metadata": {
    "execution": {
     "iopub.execute_input": "2023-02-13T14:18:19.461894Z",
     "iopub.status.busy": "2023-02-13T14:18:19.461511Z",
     "iopub.status.idle": "2023-02-13T14:18:19.467670Z",
     "shell.execute_reply": "2023-02-13T14:18:19.466512Z",
     "shell.execute_reply.started": "2023-02-13T14:18:19.461864Z"
    }
   },
   "outputs": [],
   "source": [
    "import os\n",
    "os.chdir(r'/kaggle/working')"
   ]
  },
  {
   "cell_type": "code",
   "execution_count": 25,
   "metadata": {
    "execution": {
     "iopub.execute_input": "2023-02-14T11:41:00.555389Z",
     "iopub.status.busy": "2023-02-14T11:41:00.553243Z",
     "iopub.status.idle": "2023-02-14T11:41:00.565627Z",
     "shell.execute_reply": "2023-02-14T11:41:00.564447Z",
     "shell.execute_reply.started": "2023-02-14T11:41:00.555313Z"
    }
   },
   "outputs": [
    {
     "data": {
      "text/html": [
       "<a href='train_data1.pkl' target='_blank'>train_data1.pkl</a><br>"
      ],
      "text/plain": [
       "/kaggle/working/train_data1.pkl"
      ]
     },
     "execution_count": 25,
     "metadata": {},
     "output_type": "execute_result"
    }
   ],
   "source": [
    "from IPython.display import FileLink \n",
    "FileLink(r'train_data.pkl')"
   ]
  },
  {
   "cell_type": "code",
   "execution_count": 34,
   "metadata": {
    "execution": {
     "iopub.execute_input": "2023-02-14T13:28:25.323734Z",
     "iopub.status.busy": "2023-02-14T13:28:25.322847Z",
     "iopub.status.idle": "2023-02-14T13:28:25.329053Z",
     "shell.execute_reply": "2023-02-14T13:28:25.327774Z",
     "shell.execute_reply.started": "2023-02-14T13:28:25.323690Z"
    }
   },
   "outputs": [],
   "source": [
    "# train_data.to_csv('train_data3.csv',index=False)"
   ]
  },
  {
   "cell_type": "markdown",
   "metadata": {
    "execution": {
     "iopub.status.busy": "2023-02-13T05:17:34.692785Z",
     "iopub.status.idle": "2023-02-13T05:17:34.693365Z",
     "shell.execute_reply": "2023-02-13T05:17:34.693100Z",
     "shell.execute_reply.started": "2023-02-13T05:17:34.693053Z"
    }
   },
   "source": [
    "type(test_data['labels'][0])"
   ]
  },
  {
   "cell_type": "markdown",
   "metadata": {
    "execution": {
     "iopub.execute_input": "2023-02-13T05:31:27.220731Z",
     "iopub.status.busy": "2023-02-13T05:31:27.220314Z",
     "iopub.status.idle": "2023-02-13T05:31:27.228681Z",
     "shell.execute_reply": "2023-02-13T05:31:27.227410Z",
     "shell.execute_reply.started": "2023-02-13T05:31:27.220699Z"
    }
   },
   "source": [
    "len(test_data['input_values'].loc[3][0])"
   ]
  },
  {
   "cell_type": "markdown",
   "metadata": {
    "execution": {
     "iopub.execute_input": "2023-02-13T05:30:29.726663Z",
     "iopub.status.busy": "2023-02-13T05:30:29.726276Z",
     "iopub.status.idle": "2023-02-13T05:30:29.734656Z",
     "shell.execute_reply": "2023-02-13T05:30:29.733498Z",
     "shell.execute_reply.started": "2023-02-13T05:30:29.726633Z"
    }
   },
   "source": [
    "a"
   ]
  },
  {
   "cell_type": "markdown",
   "metadata": {
    "execution": {
     "iopub.status.busy": "2023-02-13T05:17:34.698892Z",
     "iopub.status.idle": "2023-02-13T05:17:34.699447Z",
     "shell.execute_reply": "2023-02-13T05:17:34.699191Z",
     "shell.execute_reply.started": "2023-02-13T05:17:34.699164Z"
    }
   },
   "source": [
    "a.dtype"
   ]
  },
  {
   "cell_type": "markdown",
   "metadata": {},
   "source": []
  }
 ],
 "metadata": {
  "kernelspec": {
   "display_name": "Python 3 (ipykernel)",
   "language": "python",
   "name": "python3"
  },
  "language_info": {
   "codemirror_mode": {
    "name": "ipython",
    "version": 3
   },
   "file_extension": ".py",
   "mimetype": "text/x-python",
   "name": "python",
   "nbconvert_exporter": "python",
   "pygments_lexer": "ipython3",
   "version": "3.9.0"
  }
 },
 "nbformat": 4,
 "nbformat_minor": 4
}
